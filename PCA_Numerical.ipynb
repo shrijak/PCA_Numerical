{
 "cells": [
  {
   "cell_type": "code",
   "execution_count": 20,
   "metadata": {},
   "outputs": [],
   "source": [
    "import numpy as np\n",
    "import matplotlib.pyplot as plt\n",
    "%matplotlib inline"
   ]
  },
  {
   "cell_type": "code",
   "execution_count": 21,
   "metadata": {},
   "outputs": [
    {
     "data": {
      "text/plain": [
       "array([[2.5, 0.5, 2.2, 1.9, 3.1, 2.3, 2. , 1. , 1.5, 1.2],\n",
       "       [2.4, 0.7, 2.9, 2.2, 3. , 2.7, 1.6, 1.1, 1.6, 0.9]])"
      ]
     },
     "execution_count": 21,
     "metadata": {},
     "output_type": "execute_result"
    }
   ],
   "source": [
    "X1 = np.array((2.5,0.5,2.2,1.9,3.1,2.3,2,1,1.5,1.2))\n",
    "X2 = np.array((2.4,0.7,2.9,2.2,3,2.7,1.6,1.1,1.6,0.9))\n",
    "X_unorm = np.array((X1,X2))\n",
    "X_unorm"
   ]
  },
  {
   "cell_type": "code",
   "execution_count": 22,
   "metadata": {},
   "outputs": [
    {
     "data": {
      "image/png": "[encoded data removed]",
      "text/plain": [
       "<Figure size 432x288 with 1 Axes>"
      ]
     },
     "metadata": {
      "needs_background": "light"
     },
     "output_type": "display_data"
    }
   ],
   "source": [
    "plt.plot(X1,X2,'.')\n",
    "plt.plot((0,3.5),(0,0),'k')\n",
    "plt.plot((0,0),(0,3.5),'k')\n",
    "plt.gca().set_aspect('equal', adjustable='box')\n",
    "plt.title('Raw Data')\n",
    "plt.show()"
   ]
  },
  {
   "cell_type": "code",
   "execution_count": 23,
   "metadata": {},
   "outputs": [
    {
     "data": {
      "text/plain": [
       "array([[ 0.68, -1.32,  0.38,  0.08,  1.28,  0.48,  0.18, -0.82, -0.32,\n",
       "        -0.62],\n",
       "       [ 0.49, -1.21,  0.99,  0.29,  1.09,  0.79, -0.31, -0.81, -0.31,\n",
       "        -1.01]])"
      ]
     },
     "execution_count": 23,
     "metadata": {},
     "output_type": "execute_result"
    }
   ],
   "source": [
    "X1_norm = X1 - X1.mean()\n",
    "X2_norm = X2 - X2.mean()\n",
    "X = np.array((X1_norm,X2_norm))\n",
    "X"
   ]
  },
  {
   "cell_type": "code",
   "execution_count": 24,
   "metadata": {},
   "outputs": [
    {
     "data": {
      "image/png": "[encoded data removed]",
      "text/plain": [
       "<Figure size 432x288 with 1 Axes>"
      ]
     },
     "metadata": {
      "needs_background": "light"
     },
     "output_type": "display_data"
    }
   ],
   "source": [
    "plt.plot(X1_norm,X2_norm,'.')\n",
    "plt.plot((-1.5,1.5),(0,0),'k')\n",
    "plt.plot((0,0),(-1.5,1.5),'k')\n",
    "plt.gca().set_aspect('equal', adjustable='box')\n",
    "plt.xlim(-1.5,1.5)\n",
    "plt.ylim(-1.5,1.5)\n",
    "plt.title('Zero Mean Normalized Data')\n",
    "plt.show()"
   ]
  },
  {
   "cell_type": "code",
   "execution_count": 25,
   "metadata": {},
   "outputs": [
    {
     "data": {
      "text/plain": [
       "array([[0.60177778, 0.60422222],\n",
       "       [0.60422222, 0.71655556]])"
      ]
     },
     "execution_count": 25,
     "metadata": {},
     "output_type": "execute_result"
    }
   ],
   "source": [
    "Sx = (1 / (X.shape[1] - 1)) * np.matmul(X,np.transpose(X))\n",
    "Sx"
   ]
  },
  {
   "cell_type": "code",
   "execution_count": 26,
   "metadata": {},
   "outputs": [
    {
     "name": "stdout",
     "output_type": "stream",
     "text": [
      "lambda1: 1.27\n",
      "lambda2: 0.05\n"
     ]
    }
   ],
   "source": [
    "# Eigen value Calculation\n",
    "\n",
    "m = (Sx[0][0]+Sx[1][1])/2\n",
    "p = Sx[0][0]*Sx[1][1] - Sx[0][1]*Sx[1][0]\n",
    "lambda1 = m + np.sqrt(m**2 - p)\n",
    "lambda2 = m - np.sqrt(m**2 - p)\n",
    "print(\"lambda1: \"+str(round(lambda1,2))+\"\\nlambda2: \"+str(round(lambda2,2)))"
   ]
  },
  {
   "cell_type": "code",
   "execution_count": 27,
   "metadata": {},
   "outputs": [
    {
     "name": "stdout",
     "output_type": "stream",
     "text": [
      "eigen vector v1:\n",
      "[0.90952068 1.        ]\n",
      "\n",
      "eigen vector v2:\n",
      "[-1.09948022  1.        ]\n"
     ]
    }
   ],
   "source": [
    "# Eigen Vector Calculation\n",
    "\n",
    "v1 = np.array((Sx[0][1] / (lambda1-Sx[0][0]),1))\n",
    "v2 = np.array((Sx[0][1] / (lambda2-Sx[0][0]),1))\n",
    "print(\"eigen vector v1:\" )\n",
    "print(v1)\n",
    "print(\"\\neigen vector v2:\" )\n",
    "print(v2)"
   ]
  },
  {
   "cell_type": "code",
   "execution_count": 28,
   "metadata": {},
   "outputs": [],
   "source": [
    "x1= np.linspace(-1.5,1.5,150)\n",
    "y1= (v1[1] / v1[0])*x1\n",
    "x2= np.linspace(-1.5,1.5,150)\n",
    "y2= (v2[1] / v2[0])*x2"
   ]
  },
  {
   "cell_type": "code",
   "execution_count": 29,
   "metadata": {},
   "outputs": [
    {
     "data": {
      "image/png": "[encoded data removed]",
      "text/plain": [
       "<Figure size 432x288 with 1 Axes>"
      ]
     },
     "metadata": {
      "needs_background": "light"
     },
     "output_type": "display_data"
    }
   ],
   "source": [
    "plt.plot(X1_norm,X2_norm,'.')\n",
    "plt.plot(x1,y1,'--')\n",
    "plt.plot(x2,y2,'--')\n",
    "plt.plot((-1.5,1.5),(0,0),'k')\n",
    "plt.plot((0,0),(-1.5,1.5),'k')\n",
    "plt.xlim(-1.5,1.5)\n",
    "plt.ylim(-1.5,1.5)\n",
    "plt.gca().set_aspect('equal', adjustable='box')\n",
    "plt.title('Eigen vector lines')\n",
    "plt.show()"
   ]
  },
  {
   "cell_type": "code",
   "execution_count": 30,
   "metadata": {},
   "outputs": [
    {
     "data": {
      "text/plain": [
       "array([[ 1.10847406, -2.4105673 ,  1.33561786,  0.36276165,  2.25418647,\n",
       "         1.22656993, -0.14628628, -1.55580696, -0.60104662, -1.57390282],\n",
       "       [-0.25764655,  0.2413139 ,  0.57219752,  0.20204158, -0.31733469,\n",
       "         0.26224949, -0.50790644,  0.09157378,  0.04183367, -0.32832226]])"
      ]
     },
     "execution_count": 30,
     "metadata": {},
     "output_type": "execute_result"
    }
   ],
   "source": [
    "P = np.array((v1,v2))   # (0.6718*v1,-0.7406*v2)\n",
    "Y = np.matmul(P,X)\n",
    "Y"
   ]
  },
  {
   "cell_type": "code",
   "execution_count": 31,
   "metadata": {},
   "outputs": [
    {
     "data": {
      "image/png": "[encoded data removed]",
      "text/plain": [
       "<Figure size 432x288 with 1 Axes>"
      ]
     },
     "metadata": {
      "needs_background": "light"
     },
     "output_type": "display_data"
    }
   ],
   "source": [
    "plt.plot(Y[0],Y[1],'.')\n",
    "plt.plot((-2.7,2.7),(0,0))\n",
    "plt.plot((0,0),(-2.5,2.5))\n",
    "plt.xlim(-2.7,2.7)\n",
    "plt.ylim(-2.5,2.5)\n",
    "plt.gca().set_aspect('equal', adjustable='box')\n",
    "plt.title('Transformed data')\n",
    "plt.show()"
   ]
  },
  {
   "cell_type": "code",
   "execution_count": 32,
   "metadata": {},
   "outputs": [
    {
     "data": {
      "text/plain": [
       "array([[2.31346812e+00, 1.90865418e-16],\n",
       "       [1.90865418e-16, 1.15357923e-01]])"
      ]
     },
     "execution_count": 32,
     "metadata": {},
     "output_type": "execute_result"
    }
   ],
   "source": [
    "Sy = (1 / (Y.shape[1] - 1)) * np.matmul(Y,np.transpose(Y))\n",
    "Sy"
   ]
  },
  {
   "cell_type": "code",
   "execution_count": 33,
   "metadata": {},
   "outputs": [
    {
     "name": "stdout",
     "output_type": "stream",
     "text": [
      "96.04% variance is explained by v1\n",
      "3.96% variance is explained by v2\n"
     ]
    }
   ],
   "source": [
    "k = lambda1 / (lambda1 + lambda2)\n",
    "print(str(round(k*100,2))+'% variance is explained by v1')\n",
    "print(str(round((1-k)*100,2))+'% variance is explained by v2')"
   ]
  },
  {
   "cell_type": "code",
   "execution_count": 34,
   "metadata": {},
   "outputs": [
    {
     "data": {
      "image/png": "[encoded data removed]",
      "text/plain": [
       "<Figure size 432x288 with 1 Axes>"
      ]
     },
     "metadata": {
      "needs_background": "light"
     },
     "output_type": "display_data"
    }
   ],
   "source": [
    "fig = plt.figure()\n",
    "ax = fig.add_axes([0,0,1,1])\n",
    "pca = ['PC1', 'PC2']\n",
    "exp_var = [k*100,(1-k)*100]\n",
    "ax.bar(pca,exp_var)\n",
    "ax.set_xlabel('Principal Components',fontsize='large')\n",
    "ax.set_ylabel('Explained Variance',fontsize='large')\n",
    "plt.show()"
   ]
  },
  {
   "cell_type": "code",
   "execution_count": 35,
   "metadata": {},
   "outputs": [
    {
     "data": {
      "text/plain": [
       "array([ 1.10847406, -2.4105673 ,  1.33561786,  0.36276165,  2.25418647,\n",
       "        1.22656993, -0.14628628, -1.55580696, -0.60104662, -1.57390282])"
      ]
     },
     "execution_count": 35,
     "metadata": {},
     "output_type": "execute_result"
    }
   ],
   "source": [
    "P_pca = v1\n",
    "Y_pca = np.matmul(P_pca,X)\n",
    "Y_pca"
   ]
  },
  {
   "cell_type": "code",
   "execution_count": 36,
   "metadata": {},
   "outputs": [
    {
     "data": {
      "image/png": "[encoded data removed]",
      "text/plain": [
       "<Figure size 432x288 with 1 Axes>"
      ]
     },
     "metadata": {
      "needs_background": "light"
     },
     "output_type": "display_data"
    }
   ],
   "source": [
    "plt.plot(Y_pca,np.zeros((10,1)),'.')\n",
    "plt.title('Transformed data using only highest eigenvalue eigenvector')\n",
    "plt.show()"
   ]
  }
 ],
 "metadata": {
  "kernelspec": {
   "display_name": "Python 3",
   "language": "python",
   "name": "python3"
  },
  "language_info": {
   "codemirror_mode": {
    "name": "ipython",
    "version": 3
   },
   "file_extension": ".py",
   "mimetype": "text/x-python",
   "name": "python",
   "nbconvert_exporter": "python",
   "pygments_lexer": "ipython3",
   "version": "3.8.3"
  }
 },
 "nbformat": 4,
 "nbformat_minor": 4
}
